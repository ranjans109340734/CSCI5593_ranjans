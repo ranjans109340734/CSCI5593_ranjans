{
  "nbformat": 4,
  "nbformat_minor": 0,
  "metadata": {
    "colab": {
      "name": "Music_Genre_Classification_CNN-RNN.ipynb",
      "provenance": [],
      "collapsed_sections": [],
      "machine_shape": "hm",
      "include_colab_link": true
    },
    "kernelspec": {
      "name": "python3",
      "display_name": "Python 3"
    },
    "accelerator": "GPU"
  },
  "cells": [
    {
      "cell_type": "markdown",
      "metadata": {
        "id": "view-in-github",
        "colab_type": "text"
      },
      "source": [
        "<a href=\"https://colab.research.google.com/github/ranjans109340734/CSCI5593_ranjans/blob/master/Music_Genre_Classification_CNN_RNN.ipynb\" target=\"_parent\"><img src=\"https://colab.research.google.com/assets/colab-badge.svg\" alt=\"Open In Colab\"/></a>"
      ]
    },
    {
      "cell_type": "code",
      "metadata": {
        "id": "u4UenvjkYjaS",
        "colab_type": "code",
        "outputId": "d66d4909-562e-4a4f-9142-72b914c06f84",
        "colab": {
          "base_uri": "https://localhost:8080/",
          "height": 122
        }
      },
      "source": [
        "from google.colab import drive\n",
        "drive.mount('/content/drive')"
      ],
      "execution_count": 1,
      "outputs": [
        {
          "output_type": "stream",
          "text": [
            "Go to this URL in a browser: https://accounts.google.com/o/oauth2/auth?client_id=947318989803-6bn6qk8qdgf4n4g3pfee6491hc0brc4i.apps.googleusercontent.com&redirect_uri=urn%3aietf%3awg%3aoauth%3a2.0%3aoob&response_type=code&scope=email%20https%3a%2f%2fwww.googleapis.com%2fauth%2fdocs.test%20https%3a%2f%2fwww.googleapis.com%2fauth%2fdrive%20https%3a%2f%2fwww.googleapis.com%2fauth%2fdrive.photos.readonly%20https%3a%2f%2fwww.googleapis.com%2fauth%2fpeopleapi.readonly\n",
            "\n",
            "Enter your authorization code:\n",
            "··········\n",
            "Mounted at /content/drive\n"
          ],
          "name": "stdout"
        }
      ]
    },
    {
      "cell_type": "code",
      "metadata": {
        "id": "OqUDgA_JZD6Y",
        "colab_type": "code",
        "colab": {
          "base_uri": "https://localhost:8080/",
          "height": 34
        },
        "outputId": "f288eb29-0e31-45b5-fe5a-236b5026102e"
      },
      "source": [
        "%matplotlib inline\n",
        "%tensorflow_version 1.x\n",
        "import numpy as np\n",
        "import librosa\n",
        "import librosa.display\n",
        "import pandas as pd\n",
        "import matplotlib.pyplot as plt\n",
        "import os\n",
        "from os.path import isfile\n",
        "import keras\n",
        "from keras.models import Sequential, Model\n",
        "from keras.layers import Input, Dense, TimeDistributed, LSTM, Dropout, Activation\n",
        "from keras.layers import Conv1D, MaxPooling1D, Flatten, Conv2D, BatchNormalization, Lambda\n",
        "from keras.layers.advanced_activations import ELU\n",
        "from keras.callbacks import ModelCheckpoint, TensorBoard, ReduceLROnPlateau\n",
        "from keras import backend\n",
        "from keras.optimizers import Adam, RMSprop\n",
        "from keras import regularizers\n",
        "from keras.utils import np_utils,to_categorical"
      ],
      "execution_count": 2,
      "outputs": [
        {
          "output_type": "stream",
          "text": [
            "Using TensorFlow backend.\n"
          ],
          "name": "stderr"
        }
      ]
    },
    {
      "cell_type": "code",
      "metadata": {
        "id": "oDGTJjv1YY6j",
        "colab_type": "code",
        "colab": {}
      },
      "source": [
        "def get_audio_path(audio_dir, track_id):\n",
        "    track_id=str(track_id).zfill(6)\n",
        "    return os.path.join(audio_dir, track_id[:3],track_id + '.mp3')\n",
        "\n",
        "def get_tids_from_directory(audio_dir):\n",
        "    tids = []\n",
        "    for root, dirs, files in os.walk(audio_dir):\n",
        "        if dirs == []:\n",
        "            tids.extend(int(file[:-4]) for file in files)\n",
        "    return tids\n",
        "\n",
        "AUDIO_DIR='/content/drive/My Drive/DP_Project/fma_small'"
      ],
      "execution_count": 0,
      "outputs": []
    },
    {
      "cell_type": "code",
      "metadata": {
        "id": "_DswN1ZVZvcJ",
        "colab_type": "code",
        "colab": {}
      },
      "source": [
        "def create_spectogram(track_id):\n",
        "    filename = get_audio_path(AUDIO_DIR, track_id)\n",
        "    y, sr = librosa.load(filename)\n",
        "    spect = librosa.feature.melspectrogram(y=y, sr=sr,n_fft=2048, hop_length=1024)\n",
        "    spect = librosa.power_to_db(spect, ref=np.max)\n",
        "    return spect.T"
      ],
      "execution_count": 0,
      "outputs": []
    },
    {
      "cell_type": "code",
      "metadata": {
        "id": "kVcnmYOHSnF5",
        "colab_type": "code",
        "colab": {}
      },
      "source": [
        ""
      ],
      "execution_count": 0,
      "outputs": []
    },
    {
      "cell_type": "code",
      "metadata": {
        "id": "LOeykO8uiYwQ",
        "colab_type": "code",
        "colab": {}
      },
      "source": [
        "filepath = '/content/drive/My Drive/DP_Project/fma_metadata/tracks.csv'\n",
        "tracks = pd.read_csv(filepath, index_col=0, header=[0, 1])\n",
        "keep_cols = [('set', 'split'),('set', 'subset'),('track', 'genre_top')]\n",
        "\n",
        "df_all = tracks[keep_cols]\n",
        "df_all = df_all[df_all[('set', 'subset')] == 'small']\n",
        "\n",
        "df_all['track_id'] = df_all.index\n",
        "\n",
        "dict_genres = {'Electronic':1, 'Experimental':2, 'Folk':3, 'Hip-Hop':4, \n",
        "               'Instrumental':5,'International':6, 'Pop' :7, 'Rock': 7  }"
      ],
      "execution_count": 0,
      "outputs": []
    },
    {
      "cell_type": "code",
      "metadata": {
        "id": "lNYdFWcD-7ve",
        "colab_type": "code",
        "colab": {}
      },
      "source": [
        "def create_array(dataframe):\n",
        "    genres = []\n",
        "    X_spect = np.empty((0, 640, 128))\n",
        "    count = 0\n",
        "    #errors handling in case of faulty music file \n",
        "    for index, row in dataframe.iterrows():\n",
        "        try:\n",
        "            count += 1\n",
        "            track_id = int(row['track_id'])\n",
        "            genre = str(row[('track', 'genre_top')])\n",
        "            spect = create_spectogram(track_id)\n",
        "\n",
        "            # Normalize for small shape differences\n",
        "            spect = spect[:640, :]\n",
        "            X_spect = np.append(X_spect, [spect], axis=0)\n",
        "            genres.append(dict_genres[genre])\n",
        "\n",
        "        except:\n",
        "            print(\"Couldn't process: \", count)\n",
        "            continue\n",
        "    y_arr = np.array(genres)\n",
        "    return X_spect, y_arr"
      ],
      "execution_count": 0,
      "outputs": []
    },
    {
      "cell_type": "code",
      "metadata": {
        "id": "anStJVWY-7-E",
        "colab_type": "code",
        "colab": {
          "base_uri": "https://localhost:8080/",
          "height": 34
        },
        "outputId": "88230b66-627a-41d3-e960-5a95a8cb7199"
      },
      "source": [
        "df_train = df_all[df_all[('set', 'split')]=='training']\n",
        "df_valid = df_all[df_all[('set', 'split')]=='validation']\n",
        "df_test = df_all[df_all[('set', 'split')]=='test']\n",
        "\n",
        "X_test, y_test = create_array(df_test)\n",
        "np.savez('test_arr', X_test, y_test)\n",
        "X_valid, y_valid = create_array(df_valid)\n",
        "np.savez('valid_arr', X_valid, y_valid)"
      ],
      "execution_count": 7,
      "outputs": [
        {
          "output_type": "stream",
          "text": [
            "Couldn't process:  681\n"
          ],
          "name": "stdout"
        }
      ]
    },
    {
      "cell_type": "code",
      "metadata": {
        "id": "LbBE6gJM-8Ho",
        "colab_type": "code",
        "colab": {
          "base_uri": "https://localhost:8080/",
          "height": 170
        },
        "outputId": "b0e40509-dc9c-4a6a-fd9a-b9c510acc599"
      },
      "source": [
        "def splitDataFrameIntoSmaller(df, chunkSize = 1600): \n",
        "    listOfDf = list()\n",
        "    numberChunks = len(df) // chunkSize + 1\n",
        "    for i in range(numberChunks):\n",
        "        listOfDf.append(df[i*chunkSize:(i+1)*chunkSize])\n",
        "    return listOfDf\n",
        "\n",
        "listDf = splitDataFrameIntoSmaller(df_train)\n",
        "df1_train = listDf[0]\n",
        "df2_train = listDf[1]\n",
        "df3_train = listDf[2]\n",
        "df4_train = listDf[3]\n",
        "\n",
        "X_train1, y_train1 = create_array(df1_train)\n",
        "np.savez('train1_arr', X_train1, y_train1)\n",
        "X_train2, y_train2 = create_array(df2_train)\n",
        "np.savez('train2_arr', X_train2, y_train2)\n",
        "X_train3, y_train3 = create_array(df3_train)\n",
        "np.savez('train3_arr', X_train3, y_train3)\n",
        "X_train4, y_train4 = create_array(df4_train)\n",
        "np.savez('train4_arr', X_train4, y_train4)"
      ],
      "execution_count": 8,
      "outputs": [
        {
          "output_type": "stream",
          "text": [
            "Couldn't process:  1285\n",
            "Couldn't process:  1467\n",
            "Couldn't process:  296\n",
            "Couldn't process:  297\n",
            "Couldn't process:  298\n",
            "Couldn't process:  331\n",
            "Couldn't process:  698\n",
            "Couldn't process:  806\n",
            "Couldn't process:  812\n"
          ],
          "name": "stdout"
        }
      ]
    },
    {
      "cell_type": "code",
      "metadata": {
        "id": "0lzMiiPz-8PX",
        "colab_type": "code",
        "colab": {}
      },
      "source": [
        "npzfile = np.load('train1_arr.npz')\n",
        "X_train1 = npzfile['arr_0']\n",
        "y_train1 = npzfile['arr_1']\n",
        "\n",
        "\n",
        "npzfile = np.load('train2_arr.npz')\n",
        "X_train2 = npzfile['arr_0']\n",
        "y_train2 = npzfile['arr_1']\n",
        "\n",
        "npzfile = np.load('train3_arr.npz')\n",
        "X_train3 = npzfile['arr_0']\n",
        "y_train3 = npzfile['arr_1']\n",
        "\n",
        "npzfile = np.load('train4_arr.npz')\n",
        "X_train4 = npzfile['arr_0']\n",
        "y_train4 = npzfile['arr_1']\n",
        "\n",
        "\n",
        "npzfile = np.load('valid_arr.npz')\n",
        "X_valid = npzfile['arr_0']\n",
        "y_valid = npzfile['arr_1']"
      ],
      "execution_count": 0,
      "outputs": []
    },
    {
      "cell_type": "code",
      "metadata": {
        "id": "TYfr9n_Vsbia",
        "colab_type": "code",
        "colab": {}
      },
      "source": [
        "X_train = np.concatenate((X_train1, X_train2, X_train3, X_train4), axis = 0)\n",
        "y_train = np.concatenate((y_train1, y_train2, y_train3, y_train4), axis = 0)\n",
        "\n",
        "## Convert y data from scale 0-7\n",
        "y_train = y_train -1\n",
        "y_valid = y_valid -1\n",
        "\n",
        "### Convert the scale of training data\n",
        "X_train_raw = librosa.core.db_to_power(X_train, ref=1.0)\n",
        "\n",
        "X_train_log = np.log(X_train_raw)\n",
        "\n",
        "X_valid_raw = librosa.core.db_to_power(X_valid, ref=1.0)\n",
        "X_valid_log = np.log(X_valid_raw)\n",
        "\n",
        "\n",
        "def unison_shuffled_copies(a, b):\n",
        "    assert len(a) == len(b)\n",
        "    p = np.random.permutation(len(a))\n",
        "    return a[p], b[p]\n",
        "\n",
        "X_train, y_train = unison_shuffled_copies(X_train_log, y_train)\n",
        "X_valid, y_valid = unison_shuffled_copies(X_valid_log, y_valid)\n",
        "\n",
        "y_train=to_categorical(y_train)\n",
        "y_valid=to_categorical(y_valid)\n",
        "\n",
        "\n",
        "np.savez('shuffled_train', X_train, y_train)\n",
        "np.savez('shuffled_valid', X_valid, y_valid)"
      ],
      "execution_count": 0,
      "outputs": []
    },
    {
      "cell_type": "code",
      "metadata": {
        "id": "EJsVJz1Wswd-",
        "colab_type": "code",
        "colab": {
          "base_uri": "https://localhost:8080/",
          "height": 85
        },
        "outputId": "02ef2c06-2393-462d-bd15-93d34cc16dda"
      },
      "source": [
        "npzfile = np.load('shuffled_train.npz')\n",
        "print(npzfile.files)\n",
        "X_train = npzfile['arr_0']\n",
        "y_train = npzfile['arr_1']\n",
        "print(X_train.shape, y_train.shape)\n",
        "\n",
        "\n",
        "npzfile = np.load('shuffled_valid.npz')\n",
        "print(npzfile.files)\n",
        "X_valid = npzfile['arr_0']\n",
        "y_valid = npzfile['arr_1']\n",
        "print(X_valid.shape, y_valid.shape)"
      ],
      "execution_count": 11,
      "outputs": [
        {
          "output_type": "stream",
          "text": [
            "['arr_0', 'arr_1']\n",
            "(6391, 640, 128) (6391, 7)\n",
            "['arr_0', 'arr_1']\n",
            "(799, 640, 128) (799, 7)\n"
          ],
          "name": "stdout"
        }
      ]
    },
    {
      "cell_type": "markdown",
      "metadata": {
        "id": "ceLL6upWszCY",
        "colab_type": "text"
      },
      "source": [
        "**CNN RNN MODEL**"
      ]
    },
    {
      "cell_type": "code",
      "metadata": {
        "id": "hmBfuhkcs5AR",
        "colab_type": "code",
        "colab": {}
      },
      "source": [
        "batch_size = 32\n",
        "num_classes = 7\n",
        "n_features = X_train.shape[2]\n",
        "n_time = X_train.shape[1]"
      ],
      "execution_count": 0,
      "outputs": []
    },
    {
      "cell_type": "code",
      "metadata": {
        "id": "qCJzfs25ACZM",
        "colab_type": "code",
        "colab": {}
      },
      "source": [
        "N_LAYERS = 3\n",
        "FILTER_LENGTH = 5\n",
        "CONV_FILTER_COUNT = 56\n",
        "BATCH_SIZE = 32\n",
        "LSTM_COUNT = 96\n",
        "EPOCH_COUNT = 70\n",
        "NUM_HIDDEN = 64\n",
        "L2_regularization = 0.001\n",
        "\n",
        "def conv_recurrent_model_build(model_input):\n",
        "    print('Building model...')\n",
        "    layer = model_input\n",
        "    \n",
        "    ### 3 1D Convolution Layers\n",
        "    for i in range(N_LAYERS):\n",
        "        # give name to the layers\n",
        "        layer = Conv1D(\n",
        "                filters=CONV_FILTER_COUNT,\n",
        "                kernel_size=FILTER_LENGTH,\n",
        "                kernel_regularizer=regularizers.l2(L2_regularization),  # Tried 0.001\n",
        "                name='convolution_' + str(i + 1)\n",
        "            )(layer)\n",
        "        layer = BatchNormalization(momentum=0.9)(layer)\n",
        "        layer = Activation('relu')(layer)\n",
        "        layer = MaxPooling1D(2)(layer)\n",
        "        layer = Dropout(0.4)(layer)\n",
        "    \n",
        "    ## LSTM Layer\n",
        "    layer = LSTM(LSTM_COUNT, return_sequences=False)(layer)\n",
        "    layer = Dropout(0.4)(layer)\n",
        "    \n",
        "    ## Dense Layer\n",
        "    layer = Dense(NUM_HIDDEN, kernel_regularizer=regularizers.l2(L2_regularization), name='dense1')(layer)\n",
        "    layer = Dropout(0.4)(layer)\n",
        "    \n",
        "    ## Softmax Output\n",
        "    layer = Dense(num_classes)(layer)\n",
        "    print(layer.shape)\n",
        "    layer = Activation('softmax', name='output_realtime')(layer)\n",
        "    print(layer.shape)\n",
        "    model_output = layer\n",
        "    model = Model(model_input, model_output)\n",
        "    \n",
        "    \n",
        "    opt = Adam(lr=0.001)\n",
        "    model.compile(\n",
        "            loss='categorical_crossentropy',\n",
        "            optimizer=opt,\n",
        "            metrics=['accuracy']\n",
        "        )\n",
        "    \n",
        "    print(model.summary())\n",
        "    return model"
      ],
      "execution_count": 0,
      "outputs": []
    },
    {
      "cell_type": "code",
      "metadata": {
        "id": "ZxYuRsrNADPm",
        "colab_type": "code",
        "colab": {}
      },
      "source": [
        "def train_model(x_train, y_train, x_val, y_val):    \n",
        "    n_features = x_train.shape[2]\n",
        "    input_shape = (None, n_features)\n",
        "    model_input = Input(input_shape, name='input')\n",
        "    \n",
        "    model = conv_recurrent_model_build(model_input)\n",
        "    \n",
        "#     tb_callback = TensorBoard(log_dir='./logs/4', histogram_freq=1, batch_size=32, write_graph=True, write_grads=False,\n",
        "#                               write_images=False, embeddings_freq=0, embeddings_layer_names=None,\n",
        "#                               embeddings_metadata=None)\n",
        "    checkpoint_callback = ModelCheckpoint('/content/drive/My Drive/DP_Project/weights.best.h5', monitor='val_acc', verbose=1,\n",
        "                                          save_best_only=True, mode='max')\n",
        "    \n",
        "    reducelr_callback = ReduceLROnPlateau(\n",
        "                monitor='val_acc', factor=0.5, patience=10, min_delta=0.01,\n",
        "                verbose=1\n",
        "            )\n",
        "    callbacks_list = [checkpoint_callback, reducelr_callback]\n",
        "\n",
        "    # Fit the model and get training history.\n",
        "    print('Training...')\n",
        "    history = model.fit(x_train, y_train, batch_size=BATCH_SIZE, epochs=EPOCH_COUNT,\n",
        "                        validation_data=(x_val, y_val), verbose=1, callbacks=callbacks_list)\n",
        "\n",
        "    return model, history"
      ],
      "execution_count": 0,
      "outputs": []
    },
    {
      "cell_type": "code",
      "metadata": {
        "id": "A2--aeqzAFvC",
        "colab_type": "code",
        "colab": {}
      },
      "source": [
        "def show_summary_stats(history):\n",
        "    # List all data in history\n",
        "    print(history.history.keys())\n",
        "\n",
        "    # Summarize history for accuracy\n",
        "    plt.plot(history.history['acc'])\n",
        "    plt.plot(history.history['val_acc'])\n",
        "    plt.title('model accuracy')\n",
        "    plt.ylabel('accuracy')\n",
        "    plt.xlabel('epoch')\n",
        "    plt.legend(['train', 'test'], loc='upper left')\n",
        "    plt.show()\n",
        "\n",
        "    # Summarize history for loss\n",
        "    plt.plot(history.history['loss'])\n",
        "    plt.plot(history.history['val_loss'])\n",
        "    plt.title('model loss')\n",
        "    plt.ylabel('loss')\n",
        "    plt.xlabel('epoch')\n",
        "    plt.legend(['train', 'test'], loc='upper left')\n",
        "    plt.show()"
      ],
      "execution_count": 0,
      "outputs": []
    },
    {
      "cell_type": "code",
      "metadata": {
        "id": "IVel7nOZALpo",
        "colab_type": "code",
        "colab": {
          "base_uri": "https://localhost:8080/",
          "height": 1000
        },
        "outputId": "ba4fa1ef-9c3a-423a-d706-f4968f0d9cf1"
      },
      "source": [
        "model, history  = train_model(X_train, y_train, X_valid, y_valid)"
      ],
      "execution_count": 19,
      "outputs": [
        {
          "output_type": "stream",
          "text": [
            "Building model...\n",
            "(?, 7)\n",
            "(?, 7)\n",
            "Model: \"model_2\"\n",
            "_________________________________________________________________\n",
            "Layer (type)                 Output Shape              Param #   \n",
            "=================================================================\n",
            "input (InputLayer)           (None, None, 128)         0         \n",
            "_________________________________________________________________\n",
            "convolution_1 (Conv1D)       (None, None, 56)          35896     \n",
            "_________________________________________________________________\n",
            "batch_normalization_4 (Batch (None, None, 56)          224       \n",
            "_________________________________________________________________\n",
            "activation_4 (Activation)    (None, None, 56)          0         \n",
            "_________________________________________________________________\n",
            "max_pooling1d_4 (MaxPooling1 (None, None, 56)          0         \n",
            "_________________________________________________________________\n",
            "dropout_6 (Dropout)          (None, None, 56)          0         \n",
            "_________________________________________________________________\n",
            "convolution_2 (Conv1D)       (None, None, 56)          15736     \n",
            "_________________________________________________________________\n",
            "batch_normalization_5 (Batch (None, None, 56)          224       \n",
            "_________________________________________________________________\n",
            "activation_5 (Activation)    (None, None, 56)          0         \n",
            "_________________________________________________________________\n",
            "max_pooling1d_5 (MaxPooling1 (None, None, 56)          0         \n",
            "_________________________________________________________________\n",
            "dropout_7 (Dropout)          (None, None, 56)          0         \n",
            "_________________________________________________________________\n",
            "convolution_3 (Conv1D)       (None, None, 56)          15736     \n",
            "_________________________________________________________________\n",
            "batch_normalization_6 (Batch (None, None, 56)          224       \n",
            "_________________________________________________________________\n",
            "activation_6 (Activation)    (None, None, 56)          0         \n",
            "_________________________________________________________________\n",
            "max_pooling1d_6 (MaxPooling1 (None, None, 56)          0         \n",
            "_________________________________________________________________\n",
            "dropout_8 (Dropout)          (None, None, 56)          0         \n",
            "_________________________________________________________________\n",
            "lstm_2 (LSTM)                (None, 96)                58752     \n",
            "_________________________________________________________________\n",
            "dropout_9 (Dropout)          (None, 96)                0         \n",
            "_________________________________________________________________\n",
            "dense1 (Dense)               (None, 64)                6208      \n",
            "_________________________________________________________________\n",
            "dropout_10 (Dropout)         (None, 64)                0         \n",
            "_________________________________________________________________\n",
            "dense_2 (Dense)              (None, 7)                 455       \n",
            "_________________________________________________________________\n",
            "output_realtime (Activation) (None, 7)                 0         \n",
            "=================================================================\n",
            "Total params: 133,455\n",
            "Trainable params: 133,119\n",
            "Non-trainable params: 336\n",
            "_________________________________________________________________\n",
            "None\n",
            "Training...\n",
            "Train on 6391 samples, validate on 799 samples\n",
            "Epoch 1/70\n",
            "6391/6391 [==============================] - 25s 4ms/step - loss: 1.9868 - acc: 0.3331 - val_loss: 2.2052 - val_acc: 0.3041\n",
            "\n",
            "Epoch 00001: val_acc improved from -inf to 0.30413, saving model to /content/drive/My Drive/DP_Project/weights.best.h5\n",
            "Epoch 2/70\n",
            "6391/6391 [==============================] - 23s 4ms/step - loss: 1.8428 - acc: 0.3974 - val_loss: 1.9502 - val_acc: 0.3204\n",
            "\n",
            "Epoch 00002: val_acc improved from 0.30413 to 0.32040, saving model to /content/drive/My Drive/DP_Project/weights.best.h5\n",
            "Epoch 3/70\n",
            "6391/6391 [==============================] - 23s 4ms/step - loss: 1.7868 - acc: 0.4161 - val_loss: 1.9423 - val_acc: 0.3217\n",
            "\n",
            "Epoch 00003: val_acc improved from 0.32040 to 0.32165, saving model to /content/drive/My Drive/DP_Project/weights.best.h5\n",
            "Epoch 4/70\n",
            "6391/6391 [==============================] - 23s 4ms/step - loss: 1.7306 - acc: 0.4334 - val_loss: 2.2272 - val_acc: 0.2603\n",
            "\n",
            "Epoch 00004: val_acc did not improve from 0.32165\n",
            "Epoch 5/70\n",
            "6391/6391 [==============================] - 23s 4ms/step - loss: 1.6923 - acc: 0.4459 - val_loss: 1.8442 - val_acc: 0.3592\n",
            "\n",
            "Epoch 00005: val_acc improved from 0.32165 to 0.35920, saving model to /content/drive/My Drive/DP_Project/weights.best.h5\n",
            "Epoch 6/70\n",
            "6391/6391 [==============================] - 23s 4ms/step - loss: 1.6526 - acc: 0.4583 - val_loss: 1.8977 - val_acc: 0.3392\n",
            "\n",
            "Epoch 00006: val_acc did not improve from 0.35920\n",
            "Epoch 7/70\n",
            "6391/6391 [==============================] - 23s 4ms/step - loss: 1.6149 - acc: 0.4693 - val_loss: 2.2709 - val_acc: 0.2603\n",
            "\n",
            "Epoch 00007: val_acc did not improve from 0.35920\n",
            "Epoch 8/70\n",
            "6391/6391 [==============================] - 23s 4ms/step - loss: 1.5888 - acc: 0.4815 - val_loss: 1.8573 - val_acc: 0.4055\n",
            "\n",
            "Epoch 00008: val_acc improved from 0.35920 to 0.40551, saving model to /content/drive/My Drive/DP_Project/weights.best.h5\n",
            "Epoch 9/70\n",
            "6391/6391 [==============================] - 23s 4ms/step - loss: 1.5716 - acc: 0.4932 - val_loss: 1.8393 - val_acc: 0.3592\n",
            "\n",
            "Epoch 00009: val_acc did not improve from 0.40551\n",
            "Epoch 10/70\n",
            "6391/6391 [==============================] - 23s 4ms/step - loss: 1.5498 - acc: 0.4990 - val_loss: 2.0783 - val_acc: 0.2866\n",
            "\n",
            "Epoch 00010: val_acc did not improve from 0.40551\n",
            "Epoch 11/70\n",
            "6391/6391 [==============================] - 23s 4ms/step - loss: 1.5195 - acc: 0.5123 - val_loss: 2.5065 - val_acc: 0.2140\n",
            "\n",
            "Epoch 00011: val_acc did not improve from 0.40551\n",
            "Epoch 12/70\n",
            "6391/6391 [==============================] - 23s 4ms/step - loss: 1.5002 - acc: 0.5148 - val_loss: 2.0564 - val_acc: 0.3229\n",
            "\n",
            "Epoch 00012: val_acc did not improve from 0.40551\n",
            "Epoch 13/70\n",
            "6391/6391 [==============================] - 24s 4ms/step - loss: 1.4690 - acc: 0.5389 - val_loss: 2.6148 - val_acc: 0.2766\n",
            "\n",
            "Epoch 00013: val_acc did not improve from 0.40551\n",
            "Epoch 14/70\n",
            "6391/6391 [==============================] - 23s 4ms/step - loss: 1.4643 - acc: 0.5334 - val_loss: 1.7296 - val_acc: 0.4043\n",
            "\n",
            "Epoch 00014: val_acc did not improve from 0.40551\n",
            "Epoch 15/70\n",
            "6391/6391 [==============================] - 23s 4ms/step - loss: 1.4473 - acc: 0.5351 - val_loss: 1.9050 - val_acc: 0.3605\n",
            "\n",
            "Epoch 00015: val_acc did not improve from 0.40551\n",
            "Epoch 16/70\n",
            "6391/6391 [==============================] - 23s 4ms/step - loss: 1.4265 - acc: 0.5472 - val_loss: 2.0716 - val_acc: 0.3529\n",
            "\n",
            "Epoch 00016: val_acc did not improve from 0.40551\n",
            "Epoch 17/70\n",
            "6391/6391 [==============================] - 23s 4ms/step - loss: 1.4093 - acc: 0.5436 - val_loss: 2.0159 - val_acc: 0.2691\n",
            "\n",
            "Epoch 00017: val_acc did not improve from 0.40551\n",
            "Epoch 18/70\n",
            "6391/6391 [==============================] - 23s 4ms/step - loss: 1.4208 - acc: 0.5475 - val_loss: 1.9628 - val_acc: 0.4043\n",
            "\n",
            "Epoch 00018: val_acc did not improve from 0.40551\n",
            "\n",
            "Epoch 00018: ReduceLROnPlateau reducing learning rate to 0.0005000000237487257.\n",
            "Epoch 19/70\n",
            "6391/6391 [==============================] - 23s 4ms/step - loss: 1.3514 - acc: 0.5757 - val_loss: 2.2620 - val_acc: 0.2503\n",
            "\n",
            "Epoch 00019: val_acc did not improve from 0.40551\n",
            "Epoch 20/70\n",
            "6391/6391 [==============================] - 23s 4ms/step - loss: 1.3149 - acc: 0.5888 - val_loss: 1.6504 - val_acc: 0.4431\n",
            "\n",
            "Epoch 00020: val_acc improved from 0.40551 to 0.44305, saving model to /content/drive/My Drive/DP_Project/weights.best.h5\n",
            "Epoch 21/70\n",
            "6391/6391 [==============================] - 23s 4ms/step - loss: 1.2923 - acc: 0.5958 - val_loss: 1.7951 - val_acc: 0.3905\n",
            "\n",
            "Epoch 00021: val_acc did not improve from 0.44305\n",
            "Epoch 22/70\n",
            "6391/6391 [==============================] - 23s 4ms/step - loss: 1.2977 - acc: 0.5971 - val_loss: 1.6128 - val_acc: 0.4593\n",
            "\n",
            "Epoch 00022: val_acc improved from 0.44305 to 0.45932, saving model to /content/drive/My Drive/DP_Project/weights.best.h5\n",
            "Epoch 23/70\n",
            "6391/6391 [==============================] - 23s 4ms/step - loss: 1.2727 - acc: 0.6004 - val_loss: 1.7916 - val_acc: 0.4506\n",
            "\n",
            "Epoch 00023: val_acc did not improve from 0.45932\n",
            "Epoch 24/70\n",
            "6391/6391 [==============================] - 23s 4ms/step - loss: 1.2642 - acc: 0.6026 - val_loss: 1.6086 - val_acc: 0.4506\n",
            "\n",
            "Epoch 00024: val_acc did not improve from 0.45932\n",
            "Epoch 25/70\n",
            "6391/6391 [==============================] - 23s 4ms/step - loss: 1.2670 - acc: 0.6015 - val_loss: 1.6666 - val_acc: 0.4118\n",
            "\n",
            "Epoch 00025: val_acc did not improve from 0.45932\n",
            "Epoch 26/70\n",
            "6391/6391 [==============================] - 23s 4ms/step - loss: 1.2686 - acc: 0.6007 - val_loss: 1.5622 - val_acc: 0.4518\n",
            "\n",
            "Epoch 00026: val_acc did not improve from 0.45932\n",
            "Epoch 27/70\n",
            "6391/6391 [==============================] - 23s 4ms/step - loss: 1.2335 - acc: 0.6168 - val_loss: 1.5770 - val_acc: 0.4568\n",
            "\n",
            "Epoch 00027: val_acc did not improve from 0.45932\n",
            "Epoch 28/70\n",
            "6391/6391 [==============================] - 23s 4ms/step - loss: 1.2174 - acc: 0.6151 - val_loss: 1.5493 - val_acc: 0.4969\n",
            "\n",
            "Epoch 00028: val_acc improved from 0.45932 to 0.49687, saving model to /content/drive/My Drive/DP_Project/weights.best.h5\n",
            "Epoch 29/70\n",
            "6391/6391 [==============================] - 23s 4ms/step - loss: 1.2168 - acc: 0.6156 - val_loss: 1.5700 - val_acc: 0.4493\n",
            "\n",
            "Epoch 00029: val_acc did not improve from 0.49687\n",
            "Epoch 30/70\n",
            "6391/6391 [==============================] - 23s 4ms/step - loss: 1.2032 - acc: 0.6253 - val_loss: 1.7956 - val_acc: 0.4618\n",
            "\n",
            "Epoch 00030: val_acc did not improve from 0.49687\n",
            "Epoch 31/70\n",
            "6391/6391 [==============================] - 24s 4ms/step - loss: 1.2087 - acc: 0.6237 - val_loss: 1.7414 - val_acc: 0.3917\n",
            "\n",
            "Epoch 00031: val_acc did not improve from 0.49687\n",
            "Epoch 32/70\n",
            "6391/6391 [==============================] - 24s 4ms/step - loss: 1.1962 - acc: 0.6270 - val_loss: 2.1971 - val_acc: 0.3342\n",
            "\n",
            "Epoch 00032: val_acc did not improve from 0.49687\n",
            "Epoch 33/70\n",
            "6391/6391 [==============================] - 23s 4ms/step - loss: 1.1740 - acc: 0.6345 - val_loss: 1.5267 - val_acc: 0.4906\n",
            "\n",
            "Epoch 00033: val_acc did not improve from 0.49687\n",
            "Epoch 34/70\n",
            "6391/6391 [==============================] - 22s 4ms/step - loss: 1.1895 - acc: 0.6270 - val_loss: 1.6150 - val_acc: 0.4793\n",
            "\n",
            "Epoch 00034: val_acc did not improve from 0.49687\n",
            "Epoch 35/70\n",
            "6391/6391 [==============================] - 23s 4ms/step - loss: 1.1548 - acc: 0.6362 - val_loss: 2.2193 - val_acc: 0.3579\n",
            "\n",
            "Epoch 00035: val_acc did not improve from 0.49687\n",
            "Epoch 36/70\n",
            "6391/6391 [==============================] - 23s 4ms/step - loss: 1.1671 - acc: 0.6364 - val_loss: 1.7055 - val_acc: 0.4718\n",
            "\n",
            "Epoch 00036: val_acc did not improve from 0.49687\n",
            "Epoch 37/70\n",
            "6391/6391 [==============================] - 23s 4ms/step - loss: 1.1463 - acc: 0.6398 - val_loss: 1.7279 - val_acc: 0.4330\n",
            "\n",
            "Epoch 00037: val_acc did not improve from 0.49687\n",
            "Epoch 38/70\n",
            "6391/6391 [==============================] - 23s 4ms/step - loss: 1.1659 - acc: 0.6345 - val_loss: 2.0749 - val_acc: 0.4155\n",
            "\n",
            "Epoch 00038: val_acc did not improve from 0.49687\n",
            "\n",
            "Epoch 00038: ReduceLROnPlateau reducing learning rate to 0.0002500000118743628.\n",
            "Epoch 39/70\n",
            "6391/6391 [==============================] - 23s 4ms/step - loss: 1.1122 - acc: 0.6565 - val_loss: 1.8034 - val_acc: 0.4255\n",
            "\n",
            "Epoch 00039: val_acc did not improve from 0.49687\n",
            "Epoch 40/70\n",
            "6391/6391 [==============================] - 23s 4ms/step - loss: 1.0837 - acc: 0.6697 - val_loss: 1.7955 - val_acc: 0.4343\n",
            "\n",
            "Epoch 00040: val_acc did not improve from 0.49687\n",
            "Epoch 41/70\n",
            "6391/6391 [==============================] - 23s 4ms/step - loss: 1.0838 - acc: 0.6661 - val_loss: 1.4837 - val_acc: 0.5207\n",
            "\n",
            "Epoch 00041: val_acc improved from 0.49687 to 0.52065, saving model to /content/drive/My Drive/DP_Project/weights.best.h5\n",
            "Epoch 42/70\n",
            "6391/6391 [==============================] - 23s 4ms/step - loss: 1.0535 - acc: 0.6763 - val_loss: 1.7058 - val_acc: 0.4618\n",
            "\n",
            "Epoch 00042: val_acc did not improve from 0.52065\n",
            "Epoch 43/70\n",
            "6391/6391 [==============================] - 23s 4ms/step - loss: 1.0545 - acc: 0.6752 - val_loss: 1.6108 - val_acc: 0.5106\n",
            "\n",
            "Epoch 00043: val_acc did not improve from 0.52065\n",
            "Epoch 44/70\n",
            "6391/6391 [==============================] - 23s 4ms/step - loss: 1.0639 - acc: 0.6713 - val_loss: 1.6820 - val_acc: 0.4931\n",
            "\n",
            "Epoch 00044: val_acc did not improve from 0.52065\n",
            "Epoch 45/70\n",
            "6391/6391 [==============================] - 23s 4ms/step - loss: 1.0550 - acc: 0.6716 - val_loss: 1.9068 - val_acc: 0.3767\n",
            "\n",
            "Epoch 00045: val_acc did not improve from 0.52065\n",
            "Epoch 46/70\n",
            "6391/6391 [==============================] - 23s 4ms/step - loss: 1.0404 - acc: 0.6794 - val_loss: 1.5715 - val_acc: 0.4844\n",
            "\n",
            "Epoch 00046: val_acc did not improve from 0.52065\n",
            "Epoch 47/70\n",
            "6391/6391 [==============================] - 23s 4ms/step - loss: 1.0332 - acc: 0.6819 - val_loss: 1.6201 - val_acc: 0.5106\n",
            "\n",
            "Epoch 00047: val_acc did not improve from 0.52065\n",
            "Epoch 48/70\n",
            "6391/6391 [==============================] - 23s 4ms/step - loss: 1.0306 - acc: 0.6864 - val_loss: 2.1656 - val_acc: 0.4043\n",
            "\n",
            "Epoch 00048: val_acc did not improve from 0.52065\n",
            "Epoch 49/70\n",
            "6391/6391 [==============================] - 23s 4ms/step - loss: 1.0213 - acc: 0.6889 - val_loss: 1.6460 - val_acc: 0.4743\n",
            "\n",
            "Epoch 00049: val_acc did not improve from 0.52065\n",
            "Epoch 50/70\n",
            "6391/6391 [==============================] - 23s 4ms/step - loss: 1.0147 - acc: 0.6869 - val_loss: 1.6072 - val_acc: 0.4956\n",
            "\n",
            "Epoch 00050: val_acc did not improve from 0.52065\n",
            "Epoch 51/70\n",
            "6391/6391 [==============================] - 22s 3ms/step - loss: 1.0104 - acc: 0.6950 - val_loss: 1.5529 - val_acc: 0.5181\n",
            "\n",
            "Epoch 00051: val_acc did not improve from 0.52065\n",
            "\n",
            "Epoch 00051: ReduceLROnPlateau reducing learning rate to 0.0001250000059371814.\n",
            "Epoch 52/70\n",
            "6391/6391 [==============================] - 22s 3ms/step - loss: 0.9782 - acc: 0.7079 - val_loss: 1.5068 - val_acc: 0.5169\n",
            "\n",
            "Epoch 00052: val_acc did not improve from 0.52065\n",
            "Epoch 53/70\n",
            "6391/6391 [==============================] - 22s 4ms/step - loss: 0.9792 - acc: 0.7044 - val_loss: 1.4971 - val_acc: 0.5232\n",
            "\n",
            "Epoch 00053: val_acc improved from 0.52065 to 0.52315, saving model to /content/drive/My Drive/DP_Project/weights.best.h5\n",
            "Epoch 54/70\n",
            "6391/6391 [==============================] - 22s 4ms/step - loss: 0.9734 - acc: 0.7033 - val_loss: 1.4886 - val_acc: 0.5119\n",
            "\n",
            "Epoch 00054: val_acc did not improve from 0.52315\n",
            "Epoch 55/70\n",
            "6391/6391 [==============================] - 23s 4ms/step - loss: 0.9576 - acc: 0.7118 - val_loss: 1.6122 - val_acc: 0.5181\n",
            "\n",
            "Epoch 00055: val_acc did not improve from 0.52315\n",
            "Epoch 56/70\n",
            "6391/6391 [==============================] - 22s 3ms/step - loss: 0.9386 - acc: 0.7104 - val_loss: 1.4957 - val_acc: 0.5307\n",
            "\n",
            "Epoch 00056: val_acc improved from 0.52315 to 0.53066, saving model to /content/drive/My Drive/DP_Project/weights.best.h5\n",
            "Epoch 57/70\n",
            "6391/6391 [==============================] - 22s 3ms/step - loss: 0.9457 - acc: 0.7057 - val_loss: 1.4900 - val_acc: 0.5282\n",
            "\n",
            "Epoch 00057: val_acc did not improve from 0.53066\n",
            "Epoch 58/70\n",
            "6391/6391 [==============================] - 22s 4ms/step - loss: 0.9493 - acc: 0.7119 - val_loss: 1.6688 - val_acc: 0.4806\n",
            "\n",
            "Epoch 00058: val_acc did not improve from 0.53066\n",
            "Epoch 59/70\n",
            "6391/6391 [==============================] - 22s 3ms/step - loss: 0.9353 - acc: 0.7140 - val_loss: 1.4922 - val_acc: 0.5294\n",
            "\n",
            "Epoch 00059: val_acc did not improve from 0.53066\n",
            "Epoch 60/70\n",
            "6391/6391 [==============================] - 22s 3ms/step - loss: 0.9262 - acc: 0.7224 - val_loss: 1.4810 - val_acc: 0.5657\n",
            "\n",
            "Epoch 00060: val_acc improved from 0.53066 to 0.56571, saving model to /content/drive/My Drive/DP_Project/weights.best.h5\n",
            "Epoch 61/70\n",
            "6391/6391 [==============================] - 23s 4ms/step - loss: 0.9436 - acc: 0.7148 - val_loss: 1.6491 - val_acc: 0.4956\n",
            "\n",
            "Epoch 00061: val_acc did not improve from 0.56571\n",
            "Epoch 62/70\n",
            "6391/6391 [==============================] - 22s 3ms/step - loss: 0.9368 - acc: 0.7188 - val_loss: 1.5683 - val_acc: 0.5232\n",
            "\n",
            "Epoch 00062: val_acc did not improve from 0.56571\n",
            "Epoch 63/70\n",
            "6391/6391 [==============================] - 22s 3ms/step - loss: 0.9242 - acc: 0.7246 - val_loss: 1.5176 - val_acc: 0.5394\n",
            "\n",
            "Epoch 00063: val_acc did not improve from 0.56571\n",
            "Epoch 64/70\n",
            "6391/6391 [==============================] - 22s 3ms/step - loss: 0.9348 - acc: 0.7179 - val_loss: 1.6589 - val_acc: 0.5156\n",
            "\n",
            "Epoch 00064: val_acc did not improve from 0.56571\n",
            "Epoch 65/70\n",
            "6391/6391 [==============================] - 22s 4ms/step - loss: 0.9237 - acc: 0.7205 - val_loss: 1.6150 - val_acc: 0.4994\n",
            "\n",
            "Epoch 00065: val_acc did not improve from 0.56571\n",
            "Epoch 66/70\n",
            "6391/6391 [==============================] - 23s 4ms/step - loss: 0.9103 - acc: 0.7288 - val_loss: 1.6779 - val_acc: 0.5031\n",
            "\n",
            "Epoch 00066: val_acc did not improve from 0.56571\n",
            "Epoch 67/70\n",
            "6391/6391 [==============================] - 22s 3ms/step - loss: 0.9100 - acc: 0.7273 - val_loss: 1.5683 - val_acc: 0.5282\n",
            "\n",
            "Epoch 00067: val_acc did not improve from 0.56571\n",
            "Epoch 68/70\n",
            "6391/6391 [==============================] - 23s 4ms/step - loss: 0.9285 - acc: 0.7179 - val_loss: 1.5878 - val_acc: 0.4944\n",
            "\n",
            "Epoch 00068: val_acc did not improve from 0.56571\n",
            "Epoch 69/70\n",
            "6391/6391 [==============================] - 23s 4ms/step - loss: 0.9132 - acc: 0.7299 - val_loss: 1.8147 - val_acc: 0.4431\n",
            "\n",
            "Epoch 00069: val_acc did not improve from 0.56571\n",
            "Epoch 70/70\n",
            "6391/6391 [==============================] - 23s 4ms/step - loss: 0.9027 - acc: 0.7315 - val_loss: 1.6224 - val_acc: 0.4919\n",
            "\n",
            "Epoch 00070: val_acc did not improve from 0.56571\n",
            "\n",
            "Epoch 00070: ReduceLROnPlateau reducing learning rate to 6.25000029685907e-05.\n"
          ],
          "name": "stdout"
        }
      ]
    },
    {
      "cell_type": "code",
      "metadata": {
        "id": "RifwSVavAQK4",
        "colab_type": "code",
        "colab": {
          "base_uri": "https://localhost:8080/",
          "height": 590
        },
        "outputId": "18861408-c18e-4c82-a7c2-55f6efe9843c"
      },
      "source": [
        "show_summary_stats(history)"
      ],
      "execution_count": 20,
      "outputs": [
        {
          "output_type": "stream",
          "text": [
            "dict_keys(['val_loss', 'val_acc', 'loss', 'acc', 'lr'])\n"
          ],
          "name": "stdout"
        },
        {
          "output_type": "display_data",
          "data": {
            "image/png": "[encoded data removed]",
            "text/plain": [
              "<Figure size 432x288 with 1 Axes>"
            ]
          },
          "metadata": {
            "tags": []
          }
        },
        {
          "output_type": "display_data",
          "data": {
            "image/png": "[encoded data removed]",
            "text/plain": [
              "<Figure size 432x288 with 1 Axes>"
            ]
          },
          "metadata": {
            "tags": []
          }
        }
      ]
    },
    {
      "cell_type": "code",
      "metadata": {
        "id": "dR-1CnKQtTSZ",
        "colab_type": "code",
        "colab": {
          "base_uri": "https://localhost:8080/",
          "height": 272
        },
        "outputId": "8466c95a-84a6-4f0b-cbad-15ce431a4f01"
      },
      "source": [
        "dict_genres = {'Electronic':0, 'Experimental':1, 'Folk':2, 'Hip-Hop':3, \n",
        "               'Instrumental':4,'International':5, 'New' :6, 'Rock': 6  }\n",
        "from sklearn.metrics import classification_report\n",
        "\n",
        "y_true = np.argmax(y_valid, axis = 1)\n",
        "y_pred = model.predict(X_valid)\n",
        "y_pred = np.argmax(y_pred, axis=1)\n",
        "labels = [0,1,2,3,4,5,6,6]\n",
        "target_names = dict_genres.keys()\n",
        "\n",
        "print(y_true.shape, y_pred.shape)\n",
        "print(classification_report(y_true, y_pred))"
      ],
      "execution_count": 25,
      "outputs": [
        {
          "output_type": "stream",
          "text": [
            "(799,) (799,)\n",
            "              precision    recall  f1-score   support\n",
            "\n",
            "           0       0.46      0.46      0.46       100\n",
            "           1       0.53      0.31      0.39       100\n",
            "           2       0.75      0.40      0.52       100\n",
            "           3       0.63      0.40      0.49       100\n",
            "           4       0.46      0.31      0.37        99\n",
            "           5       0.47      0.67      0.55       100\n",
            "           6       0.44      0.69      0.54       200\n",
            "\n",
            "    accuracy                           0.49       799\n",
            "   macro avg       0.54      0.46      0.48       799\n",
            "weighted avg       0.52      0.49      0.48       799\n",
            "\n"
          ],
          "name": "stdout"
        }
      ]
    },
    {
      "cell_type": "code",
      "metadata": {
        "id": "DuxjUTpytVXH",
        "colab_type": "code",
        "colab": {
          "base_uri": "https://localhost:8080/",
          "height": 34
        },
        "outputId": "96884800-511a-4a8e-a43c-59a13a47b6d5"
      },
      "source": [
        "from sklearn.metrics import accuracy_score\n",
        "\n",
        "print(accuracy_score(y_true, y_pred))"
      ],
      "execution_count": 26,
      "outputs": [
        {
          "output_type": "stream",
          "text": [
            "0.4918648310387985\n"
          ],
          "name": "stdout"
        }
      ]
    },
    {
      "cell_type": "code",
      "metadata": {
        "id": "rur9rEz-tWDY",
        "colab_type": "code",
        "colab": {}
      },
      "source": [
        "from keras.models import load_model\n",
        "\n",
        "weights_path = '/content/drive/My Drive/DP_Project/weights.best.h5'\n",
        "model = load_model(weights_path)"
      ],
      "execution_count": 0,
      "outputs": []
    },
    {
      "cell_type": "code",
      "metadata": {
        "id": "dl2YG8AjtZ72",
        "colab_type": "code",
        "colab": {
          "base_uri": "https://localhost:8080/",
          "height": 51
        },
        "outputId": "692dd814-5ef2-4ee2-f337-afaa1a525576"
      },
      "source": [
        "npzfile = np.load('test_arr.npz')\n",
        "print(npzfile.files)\n",
        "X_test = npzfile['arr_0']\n",
        "y_test = npzfile['arr_1']\n",
        "print(X_test.shape, y_test.shape)"
      ],
      "execution_count": 29,
      "outputs": [
        {
          "output_type": "stream",
          "text": [
            "['arr_0', 'arr_1']\n",
            "(800, 640, 128) (800,)\n"
          ],
          "name": "stdout"
        }
      ]
    },
    {
      "cell_type": "code",
      "metadata": {
        "id": "vX-7wTFytubB",
        "colab_type": "code",
        "colab": {
          "base_uri": "https://localhost:8080/",
          "height": 34
        },
        "outputId": "51393a5b-9f48-46ef-d8a6-d1c2c947a6a9"
      },
      "source": [
        "y_test -= 1\n",
        "print(np.amin(y_test), np.amax(y_test), np.mean(y_test))"
      ],
      "execution_count": 30,
      "outputs": [
        {
          "output_type": "stream",
          "text": [
            "0 6 3.375\n"
          ],
          "name": "stdout"
        }
      ]
    },
    {
      "cell_type": "code",
      "metadata": {
        "id": "emIPXZ2otwT8",
        "colab_type": "code",
        "colab": {
          "base_uri": "https://localhost:8080/",
          "height": 34
        },
        "outputId": "34d4b528-0ad5-422b-8168-c5566845e8b4"
      },
      "source": [
        "X_test_raw = librosa.core.db_to_power(X_test, ref=1.0)\n",
        "print(np.amin(X_test_raw), np.amax(X_test_raw), np.mean(X_test_raw))"
      ],
      "execution_count": 31,
      "outputs": [
        {
          "output_type": "stream",
          "text": [
            "1e-08 1.0 0.004623813486211768\n"
          ],
          "name": "stdout"
        }
      ]
    },
    {
      "cell_type": "code",
      "metadata": {
        "id": "M3dN9rwKt1D4",
        "colab_type": "code",
        "colab": {
          "base_uri": "https://localhost:8080/",
          "height": 272
        },
        "outputId": "1b46fca1-edf4-4064-b5ea-22897c166d46"
      },
      "source": [
        "X_test = np.log(X_test_raw)\n",
        "\n",
        "\n",
        "from sklearn.metrics import classification_report\n",
        "\n",
        "y_true = y_test\n",
        "y_pred = model.predict(X_test)\n",
        "y_pred = np.argmax(y_pred, axis=1)\n",
        "\n",
        "print(y_true.shape, y_pred.shape)\n",
        "print(classification_report(y_true, y_pred))"
      ],
      "execution_count": 33,
      "outputs": [
        {
          "output_type": "stream",
          "text": [
            "(800,) (800,)\n",
            "              precision    recall  f1-score   support\n",
            "\n",
            "           0       0.68      0.41      0.51       100\n",
            "           1       0.27      0.28      0.28       100\n",
            "           2       0.18      0.26      0.22       100\n",
            "           3       0.66      0.84      0.74       100\n",
            "           4       0.43      0.28      0.34       100\n",
            "           5       0.52      0.46      0.49       100\n",
            "           6       0.58      0.62      0.60       200\n",
            "\n",
            "    accuracy                           0.47       800\n",
            "   macro avg       0.48      0.45      0.45       800\n",
            "weighted avg       0.49      0.47      0.47       800\n",
            "\n"
          ],
          "name": "stdout"
        }
      ]
    },
    {
      "cell_type": "code",
      "metadata": {
        "id": "nx-Utzzht1cj",
        "colab_type": "code",
        "colab": {
          "base_uri": "https://localhost:8080/",
          "height": 136
        },
        "outputId": "4ab8885d-40d6-4fe7-bad1-b809bda5a5c8"
      },
      "source": [
        "from sklearn.metrics import confusion_matrix\n",
        "import seaborn as sns\n",
        "\n",
        "print(confusion_matrix(y_true, y_pred))"
      ],
      "execution_count": 38,
      "outputs": [
        {
          "output_type": "stream",
          "text": [
            "[[ 41   2   7  11   4  13  22]\n",
            " [  4  28  16   7  12  10  23]\n",
            " [  1  35  26   0  15   5  18]\n",
            " [  3   3   1  84   0   3   6]\n",
            " [  2  19  37   1  28   4   9]\n",
            " [  3   1  28   7   2  46  13]\n",
            " [  6  14  26  18   4   7 125]]\n"
          ],
          "name": "stdout"
        }
      ]
    }
  ]
}